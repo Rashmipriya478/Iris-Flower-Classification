{
  "nbformat": 4,
  "nbformat_minor": 0,
  "metadata": {
    "colab": {
      "private_outputs": true,
      "provenance": []
    },
    "kernelspec": {
      "name": "python3",
      "display_name": "Python 3"
    },
    "language_info": {
      "name": "python"
    }
  },
  "cells": [
    {
      "cell_type": "markdown",
      "source": [
        "#Iris Flower Classification"
      ],
      "metadata": {
        "id": "PqJueIEOBXo2"
      }
    },
    {
      "cell_type": "markdown",
      "source": [
        "#Objective\n",
        "\n",
        "The aim is to classify iris flowers among three species from measurements of sepals and petals' length and width.The iris data set contains 3 classes of 50 instances each, where each class refers to a type of iris plant.The central goal here is to design a model that makes useful classifications for new flowers or, in other words, one which exhibits good generalization."
      ],
      "metadata": {
        "id": "hmQDL18YBc3b"
      }
    },
    {
      "cell_type": "markdown",
      "source": [
        "Importing libraries"
      ],
      "metadata": {
        "id": "mb23vm64BhwI"
      }
    },
    {
      "cell_type": "code",
      "source": [
        "import numpy as np\n",
        "import pandas as pd\n",
        "import seaborn as sns\n",
        "import matplotlib.pyplot as  plt\n",
        "from sklearn import preprocessing\n",
        "from sklearn.model_selection import train_test_split\n",
        "from sklearn.preprocessing import StandardScaler\n",
        "from sklearn.metrics import accuracy_score\n",
        "from sklearn.metrics import confusion_matrix\n",
        "from sklearn.metrics import classification_report"
      ],
      "metadata": {
        "id": "oggsNq12Bbc5"
      },
      "execution_count": null,
      "outputs": []
    },
    {
      "cell_type": "markdown",
      "source": [
        "Importing Data from .csv file"
      ],
      "metadata": {
        "id": "5_WKtGOsBoyr"
      }
    },
    {
      "cell_type": "code",
      "source": [
        "columns=[\"SepalLengthCm\",\"SepalWidthCm\",\"PetalLengthCm\",\"PetalWidthCm\",\"Species\"]\n",
        "dataset = pd.read_csv('/content/iris_data.csv',names=columns)\n",
        "dataset.head()"
      ],
      "metadata": {
        "id": "GW3VdbQyBrd_"
      },
      "execution_count": null,
      "outputs": []
    },
    {
      "cell_type": "code",
      "source": [
        "dataset.tail()"
      ],
      "metadata": {
        "id": "TYzuW0ZfCFjt"
      },
      "execution_count": null,
      "outputs": []
    },
    {
      "cell_type": "code",
      "source": [
        "dataset.shape"
      ],
      "metadata": {
        "id": "tZqwdSNiCHh2"
      },
      "execution_count": null,
      "outputs": []
    },
    {
      "cell_type": "markdown",
      "source": [
        "#Exploratory Data Analysis (EDA)"
      ],
      "metadata": {
        "id": "XK3SmQt2CKgg"
      }
    },
    {
      "cell_type": "markdown",
      "source": [
        "Histogram of petal length"
      ],
      "metadata": {
        "id": "yY3r6bUuCScy"
      }
    },
    {
      "cell_type": "code",
      "source": [
        "import seaborn as sns\n",
        "import matplotlib.pyplot as plt\n",
        "\n",
        "g = sns.FacetGrid(dataset, hue=\"Species\", height=8)\n",
        "g.map(sns.histplot, \"PetalLengthCm\", kde=True, stat=\"density\", alpha=0.4).add_legend()\n",
        "plt.show()\n"
      ],
      "metadata": {
        "id": "mBIDfVHSCXfA"
      },
      "execution_count": null,
      "outputs": []
    },
    {
      "cell_type": "markdown",
      "source": [
        "Histogram of petal width"
      ],
      "metadata": {
        "id": "hTzN2awDE_iH"
      }
    },
    {
      "cell_type": "code",
      "source": [
        "import seaborn as sns\n",
        "import matplotlib.pyplot as plt\n",
        "\n",
        "sns.FacetGrid(dataset, hue=\"Species\", height=8) \\\n",
        "    .map(sns.distplot, \"PetalWidthCm\") \\\n",
        "    .add_legend()\n",
        "plt.show()"
      ],
      "metadata": {
        "id": "HONlxYmkGKYq"
      },
      "execution_count": null,
      "outputs": []
    },
    {
      "cell_type": "markdown",
      "source": [
        "Histogram of sepal length"
      ],
      "metadata": {
        "id": "or2mWAoNGhnp"
      }
    },
    {
      "cell_type": "code",
      "source": [
        "import seaborn as sns\n",
        "import matplotlib.pyplot as plt\n",
        "\n",
        "sns.FacetGrid(dataset, hue=\"Species\", height=8) \\\n",
        "    .map(sns.distplot, \"SepalLengthCm\") \\\n",
        "    .add_legend()\n",
        "plt.show()"
      ],
      "metadata": {
        "id": "WyMljXvwG1fJ"
      },
      "execution_count": null,
      "outputs": []
    },
    {
      "cell_type": "markdown",
      "source": [
        "Histogram of sepal width"
      ],
      "metadata": {
        "id": "LB49eutDG6ec"
      }
    },
    {
      "cell_type": "code",
      "source": [
        "sns.FacetGrid(dataset, hue=\"Species\", height=5) \\\n",
        "    .map(sns.distplot, \"SepalWidthCm\") \\\n",
        "    .add_legend()\n",
        "plt.show()"
      ],
      "metadata": {
        "id": "3PsUhUe_G1hh"
      },
      "execution_count": null,
      "outputs": []
    },
    {
      "cell_type": "markdown",
      "source": [
        "#2D scatter plot"
      ],
      "metadata": {
        "id": "zmV-RG6DHFNa"
      }
    },
    {
      "cell_type": "code",
      "source": [
        "dataset.plot(kind='scatter', x='SepalLengthCm',y='SepalWidthCm')\n",
        "plt.show()"
      ],
      "metadata": {
        "id": "gJdabATVG1kP"
      },
      "execution_count": null,
      "outputs": []
    },
    {
      "cell_type": "markdown",
      "source": [
        "2D scatter plot with color-coding for each flower type/class."
      ],
      "metadata": {
        "id": "iWFI2ZItHKZx"
      }
    },
    {
      "cell_type": "code",
      "source": [
        "sns.set_style(\"whitegrid\")\n",
        "sns.FacetGrid(dataset, hue=\"Species\", height=4) \\\n",
        "    .map(plt.scatter, \"SepalLengthCm\", \"SepalWidthCm\") \\\n",
        "    .add_legend()\n",
        "plt.show()"
      ],
      "metadata": {
        "id": "hByiNY4_G1rs"
      },
      "execution_count": null,
      "outputs": []
    },
    {
      "cell_type": "markdown",
      "source": [
        "Pairwise Scatter Plot"
      ],
      "metadata": {
        "id": "JhkAzFurHaJ0"
      }
    },
    {
      "cell_type": "code",
      "source": [
        "import seaborn as sns\n",
        "import matplotlib.pyplot as plt\n",
        "\n",
        "sns.set_style(\"whitegrid\")\n",
        "sns.pairplot(dataset, hue=\"Species\", height=3, aspect=1)\n",
        "plt.show()"
      ],
      "metadata": {
        "id": "9IxGg9pTG1uF"
      },
      "execution_count": null,
      "outputs": []
    },
    {
      "cell_type": "markdown",
      "source": [
        "#Data Preprocessing"
      ],
      "metadata": {
        "id": "vIOoa_5fHmVL"
      }
    },
    {
      "cell_type": "code",
      "source": [
        "dataset[\"Species\"].value_counts()"
      ],
      "metadata": {
        "id": "g0Jrau7iHo0i"
      },
      "execution_count": null,
      "outputs": []
    },
    {
      "cell_type": "code",
      "source": [
        "dataset.tail()"
      ],
      "metadata": {
        "id": "W3awYfxsHrQy"
      },
      "execution_count": null,
      "outputs": []
    },
    {
      "cell_type": "markdown",
      "source": [
        "descriptive statistics of data set"
      ],
      "metadata": {
        "id": "O8o0q5sKHwbn"
      }
    },
    {
      "cell_type": "code",
      "source": [
        "dataset.describe()"
      ],
      "metadata": {
        "id": "nV_dXVUBHs4b"
      },
      "execution_count": null,
      "outputs": []
    },
    {
      "cell_type": "markdown",
      "source": [
        "Checking for Null Values"
      ],
      "metadata": {
        "id": "8uCqfcLOH1EO"
      }
    },
    {
      "cell_type": "code",
      "source": [
        "dataset.isnull().sum()"
      ],
      "metadata": {
        "id": "ZcP5XfSDHsfl"
      },
      "execution_count": null,
      "outputs": []
    },
    {
      "cell_type": "code",
      "source": [
        "dataset['Species'].unique()"
      ],
      "metadata": {
        "id": "OEKYiWkaHsQZ"
      },
      "execution_count": null,
      "outputs": []
    },
    {
      "cell_type": "markdown",
      "source": [
        "label Encoding"
      ],
      "metadata": {
        "id": "EfWG2UeXH7o7"
      }
    },
    {
      "cell_type": "code",
      "source": [
        "label_encoder = preprocessing.LabelEncoder()\n",
        "dataset['Species']= label_encoder.fit_transform(dataset['Species'])\n",
        "\n",
        "dataset['Species'].unique()"
      ],
      "metadata": {
        "id": "YW-RBMnVH9WS"
      },
      "execution_count": null,
      "outputs": []
    },
    {
      "cell_type": "code",
      "source": [
        "#X = dataset.drop([\"Species\"], axis=1)\n",
        "#y = dataset[\"Species\"]"
      ],
      "metadata": {
        "id": "CGLzXbmjHrVD"
      },
      "execution_count": null,
      "outputs": []
    },
    {
      "cell_type": "markdown",
      "source": [
        "Splitting the dataSet"
      ],
      "metadata": {
        "id": "fHP49NL0IHBw"
      }
    },
    {
      "cell_type": "code",
      "source": [
        "X = dataset.iloc[:, [2,3]].values\n",
        "\n",
        "y = dataset.iloc[:, 4].values"
      ],
      "metadata": {
        "id": "_dwvrBzKHrZD"
      },
      "execution_count": null,
      "outputs": []
    },
    {
      "cell_type": "code",
      "source": [
        "len(X)"
      ],
      "metadata": {
        "id": "SiDZ1K9iHrby"
      },
      "execution_count": null,
      "outputs": []
    },
    {
      "cell_type": "code",
      "source": [
        "len(y)"
      ],
      "metadata": {
        "id": "FXcRlH93HreQ"
      },
      "execution_count": null,
      "outputs": []
    },
    {
      "cell_type": "markdown",
      "source": [
        "heatmap is to identify the highly correlated features"
      ],
      "metadata": {
        "id": "ENA5lAWGIQrX"
      }
    },
    {
      "cell_type": "code",
      "source": [
        "plt.figure(figsize=(7,4))\n",
        "sns.heatmap(dataset.corr(),annot=True,cmap='cubehelix_r')\n",
        "plt.show()"
      ],
      "metadata": {
        "id": "Jd8WyIOCITa9"
      },
      "execution_count": null,
      "outputs": []
    },
    {
      "cell_type": "markdown",
      "source": [
        "#Model Development"
      ],
      "metadata": {
        "id": "EJ7sy2c3IWE7"
      }
    },
    {
      "cell_type": "markdown",
      "source": [
        "splitting the dataset into train set and test set"
      ],
      "metadata": {
        "id": "NtmZCRM5IZD3"
      }
    },
    {
      "cell_type": "code",
      "source": [
        "X_train, X_test, y_train, y_test = train_test_split(X, y, test_size = .3, random_state = 2)"
      ],
      "metadata": {
        "id": "8GQYR3bOITf4"
      },
      "execution_count": null,
      "outputs": []
    },
    {
      "cell_type": "markdown",
      "source": [
        "#Feature Scaling"
      ],
      "metadata": {
        "id": "BkZcnXPIIe45"
      }
    },
    {
      "cell_type": "code",
      "source": [
        "sc_X = StandardScaler()\n",
        "X_train = sc_X.fit_transform(X_train)\n",
        "X_test = sc_X.fit_transform(X_test)\n",
        "\n",
        "print(\"X_train:\", X_train)\n",
        "print(\"X_test:\", X_test)"
      ],
      "metadata": {
        "id": "NBGAD8aYJnDC"
      },
      "execution_count": null,
      "outputs": []
    },
    {
      "cell_type": "markdown",
      "source": [
        "#DecisionTree Classifier"
      ],
      "metadata": {
        "id": "KL8eAdbAJzdL"
      }
    },
    {
      "cell_type": "code",
      "source": [
        "from sklearn.tree import DecisionTreeClassifier\n",
        "classifier = DecisionTreeClassifier(criterion = 'entropy', random_state = 0)\n",
        "classifier.fit(X_train, y_train)"
      ],
      "metadata": {
        "id": "iBboKn0JJ2y-"
      },
      "execution_count": null,
      "outputs": []
    },
    {
      "cell_type": "markdown",
      "source": [
        "Predicting the test results"
      ],
      "metadata": {
        "id": "UDkkou5lJ69_"
      }
    },
    {
      "cell_type": "code",
      "source": [
        "y_pred = classifier.predict(X_test)"
      ],
      "metadata": {
        "id": "YW13ZDllJ9s5"
      },
      "execution_count": null,
      "outputs": []
    },
    {
      "cell_type": "markdown",
      "source": [
        "Making the confusion matrix"
      ],
      "metadata": {
        "id": "IiSd-fW6KAdU"
      }
    },
    {
      "cell_type": "code",
      "source": [
        "from sklearn.metrics import confusion_matrix\n",
        "cm = confusion_matrix(y_test, y_pred)\n",
        "cm"
      ],
      "metadata": {
        "id": "xi5rTaJgKC9z"
      },
      "execution_count": null,
      "outputs": []
    },
    {
      "cell_type": "markdown",
      "source": [
        "#Visualization\n",
        "Visualising the Training set results"
      ],
      "metadata": {
        "id": "-4O0Pc0uKIbh"
      }
    },
    {
      "cell_type": "code",
      "source": [
        "from matplotlib.colors import ListedColormap\n",
        "X_set, y_set = X_train, y_train\n",
        "X1, X2 = np.meshgrid(np.arange(start = X_set[:, 0].min() - 1, stop = X_set[:, 0].max() + 1, step = 0.01),\n",
        "                     np.arange(start = X_set[:, 1].min() - 1, stop = X_set[:, 1].max() + 1, step = 0.01))\n",
        "plt.contourf(X1, X2, classifier.predict(np.array([X1.ravel(), X2.ravel()]).T).reshape(X1.shape),\n",
        "             alpha = 0.75, cmap = ListedColormap(('pink','skyblue','gray')))\n",
        "plt.xlim(X1.min(), X1.max())\n",
        "plt.ylim(X2.min(), X2.max())\n",
        "for i, j in enumerate(np.unique(y_set)):\n",
        "    plt.scatter(X_set[y_set == j, 0], X_set[y_set == j, 1],\n",
        "                c = ListedColormap(('pink', 'skyblue','gray'))(i), label = j)\n",
        "plt.title('Decision tree Classifier (Training set)')\n",
        "plt.xlabel('Age')\n",
        "plt.ylabel('Estimated Salary')\n",
        "plt.legend()\n",
        "plt.show()"
      ],
      "metadata": {
        "id": "QFtDSfi9KHqf"
      },
      "execution_count": null,
      "outputs": []
    },
    {
      "cell_type": "markdown",
      "source": [
        "Visualising the Test set results"
      ],
      "metadata": {
        "id": "OcKmyv_oKOza"
      }
    },
    {
      "cell_type": "code",
      "source": [
        "from matplotlib.colors import ListedColormap\n",
        "X_set, y_set = X_test, y_test\n",
        "X1, X2 = np.meshgrid(np.arange(start = X_set[:, 0].min() - 1, stop = X_set[:, 0].max() + 1, step = 0.01),\n",
        "                     np.arange(start = X_set[:, 1].min() - 1, stop = X_set[:, 1].max() + 1, step = 0.01))\n",
        "plt.contourf(X1, X2, classifier.predict(np.array([X1.ravel(), X2.ravel()]).T).reshape(X1.shape),\n",
        "             alpha = 0.75, cmap = ListedColormap(('red', 'green','blue')))\n",
        "plt.xlim(X1.min(), X1.max())\n",
        "plt.ylim(X2.min(), X2.max())\n",
        "for i, j in enumerate(np.unique(y_set)):\n",
        "    plt.scatter(X_set[y_set == j, 0], X_set[y_set == j, 1],\n",
        "                c = ListedColormap(('red', 'green','blue'))(i), label = j)\n",
        "plt.title('Decision tree Classifier  (Test set)')\n",
        "plt.xlabel('Age')\n",
        "plt.ylabel('Estimated Salary')\n",
        "plt.legend()\n",
        "plt.show()"
      ],
      "metadata": {
        "id": "k50iEyJJKQt4"
      },
      "execution_count": null,
      "outputs": []
    },
    {
      "cell_type": "markdown",
      "source": [
        "#Accuracy"
      ],
      "metadata": {
        "id": "sl79qHucKTco"
      }
    },
    {
      "cell_type": "code",
      "source": [
        "from sklearn.metrics import r2_score\n",
        "from sklearn.metrics import mean_squared_error\n",
        "from math import sqrt\n",
        "print('The accuracy of the Decision Tree Classifier is : %.2f'%accuracy_score(y_pred,y_test))\n",
        "rmse = sqrt(mean_squared_error(y_test, y_pred))\n",
        "print(\"RMSE value = %.2f\"%rmse)\n",
        "print(\"R2 Score= %.2f\"%r2_score(y_test, y_pred))"
      ],
      "metadata": {
        "id": "Xg0ZeyqKKX5Z"
      },
      "execution_count": null,
      "outputs": []
    },
    {
      "cell_type": "code",
      "source": [
        "classification_report(y_test, y_pred)"
      ],
      "metadata": {
        "id": "_5hypu6vKX8S"
      },
      "execution_count": null,
      "outputs": []
    },
    {
      "cell_type": "markdown",
      "source": [
        "#KNN Algorithm"
      ],
      "metadata": {
        "id": "WCq8WIWpKgMg"
      }
    },
    {
      "cell_type": "code",
      "source": [
        "from sklearn import neighbors\n",
        "model = neighbors.KNeighborsClassifier(n_neighbors=3)"
      ],
      "metadata": {
        "id": "h1G3E5p_KjVk"
      },
      "execution_count": null,
      "outputs": []
    },
    {
      "cell_type": "code",
      "source": [
        "model.fit(X_train,y_train)"
      ],
      "metadata": {
        "id": "tKOn4nEfKlgm"
      },
      "execution_count": null,
      "outputs": []
    },
    {
      "cell_type": "code",
      "source": [
        "predict = model.predict(X_test)"
      ],
      "metadata": {
        "id": "V9H8gtyNKoph"
      },
      "execution_count": null,
      "outputs": []
    },
    {
      "cell_type": "markdown",
      "source": [
        "Accuracy"
      ],
      "metadata": {
        "id": "fimgh59TKq_f"
      }
    },
    {
      "cell_type": "code",
      "source": [
        "#for checking the model accuracy\n",
        "print('The accuracy of the KNN is',accuracy_score(predict,y_test))\n",
        "rmse = sqrt(mean_squared_error(y_test, predict))\n",
        "print(\"RMSE value = %.2f\"%rmse)\n",
        "print(\"R2 Score= %.2f\"%r2_score(y_test, predict))"
      ],
      "metadata": {
        "id": "ee6fua6gKszc"
      },
      "execution_count": null,
      "outputs": []
    },
    {
      "cell_type": "markdown",
      "source": [
        "#SVM"
      ],
      "metadata": {
        "id": "PPQRNba6KvVn"
      }
    },
    {
      "cell_type": "code",
      "source": [
        "from sklearn import svm\n",
        "svc = svm.SVC(C=1.0, kernel='rbf')"
      ],
      "metadata": {
        "id": "v27sdjFZKyPU"
      },
      "execution_count": null,
      "outputs": []
    },
    {
      "cell_type": "code",
      "source": [
        "svc.fit(X_train,y_train)"
      ],
      "metadata": {
        "id": "QMi_ABQ9K1WG"
      },
      "execution_count": null,
      "outputs": []
    },
    {
      "cell_type": "code",
      "source": [
        "pred = svc.predict(X_test)"
      ],
      "metadata": {
        "id": "MFO1gMdzK48V"
      },
      "execution_count": null,
      "outputs": []
    },
    {
      "cell_type": "markdown",
      "source": [
        "validation"
      ],
      "metadata": {
        "id": "EzR1QhDCK9ET"
      }
    },
    {
      "cell_type": "code",
      "source": [
        "print('The accuracy of the SVM is: %.2f'%accuracy_score(pred,y_test))\n",
        "rmse = sqrt(mean_squared_error(y_test, pred))\n",
        "print(\"RMSE value = %.2f\"%rmse)\n",
        "print(\"R2 Score= %.2f\"%r2_score(y_test, pred))"
      ],
      "metadata": {
        "id": "9LjxkQuMK-sU"
      },
      "execution_count": null,
      "outputs": []
    },
    {
      "cell_type": "markdown",
      "source": [
        "#Logistic Regression"
      ],
      "metadata": {
        "id": "hKUyHwS-LBcb"
      }
    },
    {
      "cell_type": "code",
      "source": [
        "from sklearn.linear_model import LogisticRegression # for Logistic Regression algorithm\n",
        "model = LogisticRegression()\n",
        "model.fit(X_train,y_train)\n",
        "prediction=model.predict(X_test)"
      ],
      "metadata": {
        "id": "rPlCDBuKLDk0"
      },
      "execution_count": null,
      "outputs": []
    },
    {
      "cell_type": "markdown",
      "source": [
        "#Accuracy"
      ],
      "metadata": {
        "id": "663ZGcqCLLod"
      }
    },
    {
      "cell_type": "code",
      "source": [
        "print('The accuracy of the Logistic Regression using Petals is:',accuracy_score(prediction,y_test))\n",
        "rmse = sqrt(mean_squared_error(y_test, prediction))\n",
        "print(\"RMSE value = %.2f\"%rmse)\n",
        "print(\"R2 Score= %.2f\"%r2_score(y_test, prediction))"
      ],
      "metadata": {
        "id": "NxQQCtDdLQkG"
      },
      "execution_count": null,
      "outputs": []
    },
    {
      "cell_type": "markdown",
      "source": [
        "#Naive_bayes"
      ],
      "metadata": {
        "id": "QQUKA9zcLTjQ"
      }
    },
    {
      "cell_type": "code",
      "source": [
        "from sklearn.naive_bayes import GaussianNB\n",
        "model = GaussianNB()\n",
        "model.fit(X_train,y_train)\n",
        "predicted= model.predict(X_test)"
      ],
      "metadata": {
        "id": "mpuFqbEKLW25"
      },
      "execution_count": null,
      "outputs": []
    },
    {
      "cell_type": "markdown",
      "source": [
        "Accuracy"
      ],
      "metadata": {
        "id": "xTcD2hwFLaj3"
      }
    },
    {
      "cell_type": "code",
      "source": [
        "print('The accuracy of the naive_bayes is:',accuracy_score(predicted,y_test))\n",
        "rmse = sqrt(mean_squared_error(y_test, predicted))\n",
        "print(\"RMSE value = %.2f\"%rmse)\n",
        "print(\"R2 Score= %.2f\"%r2_score(y_test, predicted))"
      ],
      "metadata": {
        "id": "h5JVpk4QLZEs"
      },
      "execution_count": null,
      "outputs": []
    }
  ]
}